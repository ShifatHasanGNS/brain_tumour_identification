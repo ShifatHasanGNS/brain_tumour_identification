{
 "cells": [
  {
   "cell_type": "code",
   "execution_count": 1,
   "metadata": {},
   "outputs": [],
   "source": [
    "# type: ignore\n",
    "import os\n",
    "import cv2\n",
    "import numpy as np\n",
    "from tensorflow.keras.preprocessing.image import ImageDataGenerator, load_img"
   ]
  },
  {
   "cell_type": "markdown",
   "metadata": {},
   "source": [
    "### Important Functions"
   ]
  },
  {
   "cell_type": "code",
   "execution_count": 2,
   "metadata": {},
   "outputs": [],
   "source": [
    "def list_image_paths(dirs: list[str]):\n",
    "    resultant_image_paths = []\n",
    "\n",
    "    for dir in dirs:\n",
    "        image_paths = os.listdir(dir)\n",
    "        if image_paths.count('.DS_Store'):\n",
    "            image_paths.remove('.DS_Store')\n",
    "\n",
    "        for i, name in enumerate(image_paths):\n",
    "            image_paths[i] = f'{dir}/{name}'\n",
    "\n",
    "        resultant_image_paths.extend(image_paths)\n",
    "\n",
    "    return sorted(resultant_image_paths)"
   ]
  },
  {
   "cell_type": "code",
   "execution_count": 3,
   "metadata": {},
   "outputs": [],
   "source": [
    "def are_identical_images(image_path_1: str, image_path_2: str) -> bool:\n",
    "    img1 = cv2.imread(image_path_1)\n",
    "    img2 = cv2.imread(image_path_2)\n",
    "\n",
    "    if img1.shape == img2.shape:\n",
    "        difference = cv2.subtract(img1, img2)\n",
    "        b, g, r = cv2.split(difference)\n",
    "        \n",
    "        if cv2.countNonZero(b) == 0 and cv2.countNonZero(g) == 0 and cv2.countNonZero(r) == 0:\n",
    "            print(f'{image_path_1} == {image_path_2}')\n",
    "            return True\n",
    "\n",
    "    return False"
   ]
  },
  {
   "cell_type": "code",
   "execution_count": 4,
   "metadata": {},
   "outputs": [],
   "source": [
    "def remove_identical_images(image_paths: list[str]):\n",
    "    for img_path_1 in image_paths:\n",
    "        for img_path_2 in image_paths:\n",
    "            if img_path_1 == img_path_2:\n",
    "                continue\n",
    "            if are_identical_images(img_path_1, img_path_2):\n",
    "                image_paths.remove(img_path_2)\n",
    "                os.remove(img_path_2)\n",
    "    \n",
    "    return image_paths"
   ]
  },
  {
   "cell_type": "code",
   "execution_count": 5,
   "metadata": {},
   "outputs": [],
   "source": [
    "def rename_images(image_paths: list[str], initial_idx = 0, prefix = \"\", suffix = \"\"):\n",
    "    n = initial_idx + len(image_paths)\n",
    "    idxs = [(len(str(n)) - len(str(idx))) * '0' + str(idx) for idx in range(initial_idx, n)]\n",
    "\n",
    "    for idx, image_path in enumerate(image_paths):\n",
    "        path, filename = os.path.split(image_path)\n",
    "        ext = os.path.splitext(filename)[1]\n",
    "        new_filename = prefix + (len(str(n)) - len(str(initial_idx + idx))) * '0' + str(initial_idx + idx) + suffix + ext\n",
    "        new_image_path = os.path.join(path, new_filename)\n",
    "        os.rename(image_path, new_image_path)"
   ]
  },
  {
   "cell_type": "code",
   "execution_count": 6,
   "metadata": {},
   "outputs": [],
   "source": [
    "def move_images(source_image_paths: list[str], destination_dir: str):\n",
    "    for image_path in source_image_paths:\n",
    "            image = os.path.split(image_path)[-1]\n",
    "            destination_path = os.path.join(destination_dir, image)\n",
    "            os.rename(image_path, destination_path)"
   ]
  },
  {
   "cell_type": "code",
   "execution_count": 7,
   "metadata": {},
   "outputs": [],
   "source": [
    "def refine_image_names(dirs: list[str]):\n",
    "    for dir in dirs:\n",
    "        image_paths = list_image_paths([dir])\n",
    "        rename_images(image_paths, initial_idx=0)"
   ]
  },
  {
   "cell_type": "code",
   "execution_count": 8,
   "metadata": {},
   "outputs": [],
   "source": [
    "datagen = ImageDataGenerator(\n",
    "    rotation_range=40,\n",
    "    width_shift_range=0.2,\n",
    "    height_shift_range=0.2,\n",
    "    shear_range=0.2,\n",
    "    horizontal_flip=True,\n",
    "    vertical_flip=True,\n",
    "    fill_mode='nearest'\n",
    ")"
   ]
  },
  {
   "cell_type": "code",
   "execution_count": 9,
   "metadata": {},
   "outputs": [],
   "source": [
    "def generate_images(image_paths: list[str], n_images_per_image = 5):\n",
    "    for image_path in image_paths:\n",
    "        image = load_img(image_path)\n",
    "        image = [image]\n",
    "        image = np.array(image)\n",
    "        n = 0\n",
    "        dir = os.path.split(image_path)[0]\n",
    "        for batch in datagen.flow(image, batch_size=1, save_to_dir=dir, save_format='jpg'):\n",
    "            n += 1\n",
    "            if n > n_images_per_image:\n",
    "                break"
   ]
  },
  {
   "cell_type": "code",
   "execution_count": 10,
   "metadata": {},
   "outputs": [],
   "source": [
    "def resize_images(image_paths: list[str], size: tuple[int, int]):\n",
    "    for image_path in image_paths:\n",
    "        image = load_img(image_path)\n",
    "        image = image.resize(size)\n",
    "        image.save(image_path)"
   ]
  },
  {
   "cell_type": "code",
   "execution_count": 11,
   "metadata": {},
   "outputs": [],
   "source": [
    "def replace_image_ext_with_txt(file_path: str):\n",
    "    return os.path.splitext(file_path)[0] + '.txt'"
   ]
  },
  {
   "cell_type": "code",
   "execution_count": 12,
   "metadata": {},
   "outputs": [],
   "source": [
    "def add_text_file_with(text: str, file_path: str):\n",
    "    with open(file_path, 'w', encoding='utf-8') as f:\n",
    "        f.write(text)"
   ]
  },
  {
   "cell_type": "markdown",
   "metadata": {},
   "source": [
    "---"
   ]
  },
  {
   "cell_type": "markdown",
   "metadata": {},
   "source": [
    "### Augment Images"
   ]
  },
  {
   "cell_type": "code",
   "execution_count": null,
   "metadata": {},
   "outputs": [],
   "source": [
    "# generate_images(\n",
    "#     image_paths = list_image_paths(['./Data/test/pituitary_tumor'])[123:130],\n",
    "#     n_images_per_image = 4\n",
    "# )"
   ]
  },
  {
   "cell_type": "markdown",
   "metadata": {},
   "source": [
    "### Refine Image Names"
   ]
  },
  {
   "cell_type": "code",
   "execution_count": null,
   "metadata": {},
   "outputs": [],
   "source": [
    "# refine_image_names([\n",
    "#     './Data/test/pituitary_tumor',\n",
    "# ])"
   ]
  },
  {
   "cell_type": "markdown",
   "metadata": {},
   "source": [
    "### Resize Images"
   ]
  },
  {
   "cell_type": "code",
   "execution_count": null,
   "metadata": {},
   "outputs": [],
   "source": [
    "# resize_images(\n",
    "#     image_paths = list_image_paths(['./Data/test/pituitary_tumor']),\n",
    "#     size = (256, 256)\n",
    "# )"
   ]
  },
  {
   "cell_type": "markdown",
   "metadata": {},
   "source": [
    "### Generate Placeholder Text Files"
   ]
  },
  {
   "cell_type": "code",
   "execution_count": null,
   "metadata": {},
   "outputs": [],
   "source": [
    "glioma_tumor_image_paths = list_image_paths([\n",
    "    './Data/train/glioma_tumor',\n",
    "    './Data/test/glioma_tumor'\n",
    "])\n",
    "\n",
    "meningioma_tumor_image_paths = list_image_paths([\n",
    "    './Data/train/meningioma_tumor',\n",
    "    './Data/test/meningioma_tumor'\n",
    "])\n",
    "\n",
    "pituitary_tumor_image_paths = list_image_paths([\n",
    "    './Data/train/pituitary_tumor',\n",
    "    './Data/test/pituitary_tumor'\n",
    "])\n",
    "\n",
    "no_tumor_image_paths = list_image_paths([\n",
    "    './Data/train/no_tumor',\n",
    "    './Data/test/no_tumor'\n",
    "])\n",
    "\n",
    "# for image_path in glioma_tumor_image_paths:\n",
    "#     add_text_file_with(\"Brain Tumor Report: This image shows that the patient has a glioma tumor in the brain.\", replace_image_ext_with_txt(image_path))\n",
    "\n",
    "# for image_path in meningioma_tumor_image_paths:\n",
    "#     add_text_file_with(\"Brain Tumor Report: This image shows that the patient has a meningioma tumor in the brain.\", replace_image_ext_with_txt(image_path))\n",
    "\n",
    "# for image_path in pituitary_tumor_image_paths:\n",
    "#     add_text_file_with(\"Brain Tumor Report: This image shows that the patient has a pituitary tumor in the brain.\", replace_image_ext_with_txt(image_path))\n",
    "\n",
    "# for image_path in no_tumor_image_paths:\n",
    "#     add_text_file_with(\"Brain Tumor Report: This image shows that the patient has no tumor in the brain.\", replace_image_ext_with_txt(image_path))"
   ]
  },
  {
   "cell_type": "code",
   "execution_count": null,
   "metadata": {},
   "outputs": [],
   "source": []
  }
 ],
 "metadata": {
  "kernelspec": {
   "display_name": "Python 3",
   "language": "python",
   "name": "python3"
  },
  "language_info": {
   "codemirror_mode": {
    "name": "ipython",
    "version": 3
   },
   "file_extension": ".py",
   "mimetype": "text/x-python",
   "name": "python",
   "nbconvert_exporter": "python",
   "pygments_lexer": "ipython3",
   "version": "3.11.9"
  }
 },
 "nbformat": 4,
 "nbformat_minor": 2
}
